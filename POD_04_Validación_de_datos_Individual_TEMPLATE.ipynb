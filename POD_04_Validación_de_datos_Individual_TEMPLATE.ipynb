{
  "cells": [
    {
      "cell_type": "markdown",
      "metadata": {
        "id": "UwxQU5JCF33j"
      },
      "source": [
        "*   **Año:** [INSERTAR AÑO]\n",
        "*   **Alumno/a:** [INSERTAR NOMBRE]\n",
        "*   **Legajo:** [LEGAJO]"
      ]
    },
    {
      "cell_type": "markdown",
      "metadata": {
        "id": "8ec8DQdbWQfC"
      },
      "source": [
        "# Pydantic\n",
        "Pydantic es una libreria rapida y extensible que nos permite validar datos usando tipos de datos de Python.\n"
      ]
    },
    {
      "cell_type": "markdown",
      "metadata": {
        "id": "uF01w4AQcrtV"
      },
      "source": [
        "Primero, importe `pydantic`."
      ]
    },
    {
      "cell_type": "code",
      "execution_count": 10,
      "metadata": {},
      "outputs": [],
      "source": [
        "import pydantic\n",
        "from pydantic import BaseModel, validator\n",
        "from datetime import date\n",
        "from typing import Optional"
      ]
    },
    {
      "cell_type": "markdown",
      "metadata": {
        "id": "eC8fpbQ04GzX"
      },
      "source": [
        "Supongamos que tenemos una lista de clientes (llamemoslo en el codigo `Client`). Los clientes tienen dos campos: DNI (un entero) y nacionalidad (un `string`). Cree el modelo base de `Client` (en forma de clases de Python)."
      ]
    },
    {
      "cell_type": "code",
      "execution_count": 11,
      "metadata": {
        "id": "I4zJ7s_k4GkI"
      },
      "outputs": [],
      "source": [
        "class Client(BaseModel):\n",
        "    dni: int\n",
        "    nationality: str\n",
        "    registration_date: Optional[date] = None"
      ]
    },
    {
      "cell_type": "markdown",
      "metadata": {
        "id": "zas-XX4r4SeP"
      },
      "source": [
        "Cree a un usuario con documento 39.755.010 y nacionalidad 'Argentina'. Muestre todos sus campos."
      ]
    },
    {
      "cell_type": "code",
      "execution_count": 12,
      "metadata": {
        "colab": {
          "base_uri": "https://localhost:8080/"
        },
        "id": "_DhtCWhr4ST9",
        "outputId": "cebcd023-58bb-46cc-cd5e-5892a4d958fd"
      },
      "outputs": [
        {
          "name": "stdout",
          "output_type": "stream",
          "text": [
            "dni=39755010 nationality='Argentina' registration_date=None\n"
          ]
        }
      ],
      "source": [
        "client = Client(dni=39755010, nationality='Argentina')\n",
        "print(client)"
      ]
    },
    {
      "cell_type": "markdown",
      "metadata": {
        "id": "ejbn5RSH4S_W"
      },
      "source": [
        "Intente crear al usuario con un documento en forma de `string`. Deberia fallar..."
      ]
    },
    {
      "cell_type": "code",
      "execution_count": 13,
      "metadata": {
        "colab": {
          "base_uri": "https://localhost:8080/"
        },
        "id": "OMPq8C1C4Su3",
        "outputId": "9f573190-5742-4586-d90e-a05172a39b9a"
      },
      "outputs": [],
      "source": [
        "try:\n",
        "    client_invalid_dni = Client(dni='39755010', nationality='Argentina')\n",
        "except ValueError as e:\n",
        "    print(f\"Error: {e}\")"
      ]
    },
    {
      "cell_type": "markdown",
      "metadata": {
        "id": "jARZRMfe6MPE"
      },
      "source": [
        "Hemos detectado que ciertos clientes tienen nacionalidades que no existen. Ademas, hay numeros de documento negativos y se tiene que poder agregar la fecha de registro de los clientes (que no pueden ser del futuro). Cambiar la definicion del cliente para que estas cosas no ocurran. Despues de la siguiente celda, cree otras 3 mas probando un caso donde deberia funcionar y otros dos en los que no."
      ]
    },
    {
      "cell_type": "code",
      "execution_count": 14,
      "metadata": {
        "colab": {
          "base_uri": "https://localhost:8080/"
        },
        "id": "sWyLaqoC7QUK",
        "outputId": "b8fa4920-eed8-434e-cb0d-c6702a707c5b"
      },
      "outputs": [
        {
          "name": "stderr",
          "output_type": "stream",
          "text": [
            "/var/folders/3y/mm6bmkvd4nd8_j46k_7rqdgr0000gn/T/ipykernel_15961/880137703.py:6: PydanticDeprecatedSince20: Pydantic V1 style `@validator` validators are deprecated. You should migrate to Pydantic V2 style `@field_validator` validators, see the migration guide for more details. Deprecated in Pydantic V2.0 to be removed in V3.0. See Pydantic V2 Migration Guide at https://errors.pydantic.dev/2.9/migration/\n",
            "  @validator('dni')\n",
            "/var/folders/3y/mm6bmkvd4nd8_j46k_7rqdgr0000gn/T/ipykernel_15961/880137703.py:12: PydanticDeprecatedSince20: Pydantic V1 style `@validator` validators are deprecated. You should migrate to Pydantic V2 style `@field_validator` validators, see the migration guide for more details. Deprecated in Pydantic V2.0 to be removed in V3.0. See Pydantic V2 Migration Guide at https://errors.pydantic.dev/2.9/migration/\n",
            "  @validator('nationality')\n",
            "/var/folders/3y/mm6bmkvd4nd8_j46k_7rqdgr0000gn/T/ipykernel_15961/880137703.py:19: PydanticDeprecatedSince20: Pydantic V1 style `@validator` validators are deprecated. You should migrate to Pydantic V2 style `@field_validator` validators, see the migration guide for more details. Deprecated in Pydantic V2.0 to be removed in V3.0. See Pydantic V2 Migration Guide at https://errors.pydantic.dev/2.9/migration/\n",
            "  @validator('registration_date', pre=True, always=True)\n"
          ]
        }
      ],
      "source": [
        "class Client(BaseModel):\n",
        "    dni: int\n",
        "    nationality: str\n",
        "    registration_date: Optional[date] = None\n",
        "    \n",
        "    @validator('dni')\n",
        "    def dni_must_be_positive(cls, v):\n",
        "        if v < 0:\n",
        "            raise ValueError('DNI must be positive')\n",
        "        return v\n",
        "\n",
        "    @validator('nationality')\n",
        "    def nationality_must_be_valid(cls, v):\n",
        "        valid_nationalities = ['Argentina', 'Brasil', 'Chile', 'Uruguay']  # Puedes agregar más\n",
        "        if v not in valid_nationalities:\n",
        "            raise ValueError(f\"Nationality '{v}' is not valid\")\n",
        "        return v\n",
        "\n",
        "    @validator('registration_date', pre=True, always=True)\n",
        "    def check_registration_date(cls, v):\n",
        "        if v and v > date.today():\n",
        "            raise ValueError(\"Registration date can't be in the future\")\n",
        "        return v"
      ]
    },
    {
      "cell_type": "code",
      "execution_count": 15,
      "metadata": {
        "id": "E6h_7zb77QhN"
      },
      "outputs": [
        {
          "name": "stdout",
          "output_type": "stream",
          "text": [
            "dni=39755010 nationality='Argentina' registration_date=datetime.date(2024, 10, 8)\n"
          ]
        }
      ],
      "source": [
        "client_valid = Client(dni=39755010, nationality='Argentina', registration_date=date.today())\n",
        "print(client_valid)"
      ]
    },
    {
      "cell_type": "code",
      "execution_count": 16,
      "metadata": {
        "id": "MtDGMxri7R_O"
      },
      "outputs": [
        {
          "name": "stdout",
          "output_type": "stream",
          "text": [
            "Error: 1 validation error for Client\n",
            "nationality\n",
            "  Value error, Nationality 'Peru' is not valid [type=value_error, input_value='Peru', input_type=str]\n",
            "    For further information visit https://errors.pydantic.dev/2.9/v/value_error\n"
          ]
        }
      ],
      "source": [
        "try:\n",
        "    client_invalid_nationality = Client(dni=39755010, nationality='Peru')\n",
        "except ValueError as e:\n",
        "    print(f\"Error: {e}\")"
      ]
    },
    {
      "cell_type": "code",
      "execution_count": 17,
      "metadata": {},
      "outputs": [
        {
          "name": "stdout",
          "output_type": "stream",
          "text": [
            "Error: 1 validation error for Client\n",
            "dni\n",
            "  Value error, DNI must be positive [type=value_error, input_value=-12345, input_type=int]\n",
            "    For further information visit https://errors.pydantic.dev/2.9/v/value_error\n"
          ]
        }
      ],
      "source": [
        "try:\n",
        "    client_invalid_dni = Client(dni=-12345, nationality='Argentina')\n",
        "except ValueError as e:\n",
        "    print(f\"Error: {e}\")"
      ]
    },
    {
      "cell_type": "code",
      "execution_count": 18,
      "metadata": {},
      "outputs": [
        {
          "name": "stdout",
          "output_type": "stream",
          "text": [
            "Error: 1 validation error for Client\n",
            "registration_date\n",
            "  Value error, Registration date can't be in the future [type=value_error, input_value=datetime.date(2050, 1, 1), input_type=date]\n",
            "    For further information visit https://errors.pydantic.dev/2.9/v/value_error\n"
          ]
        }
      ],
      "source": [
        "try:\n",
        "    client_invalid_date = Client(dni=39755010, nationality='Argentina', registration_date=date(2050, 1, 1))\n",
        "except ValueError as e:\n",
        "    print(f\"Error: {e}\")"
      ]
    },
    {
      "cell_type": "markdown",
      "metadata": {
        "id": "79P3MNuZ8-t3"
      },
      "source": [
        "# Pandera\n",
        "Hacer lo que se pidio en la ultima celda anterior, pero con Pandera."
      ]
    }
  ],
  "metadata": {
    "colab": {
      "provenance": []
    },
    "kernelspec": {
      "display_name": "Python 3",
      "name": "python3"
    },
    "language_info": {
      "codemirror_mode": {
        "name": "ipython",
        "version": 3
      },
      "file_extension": ".py",
      "mimetype": "text/x-python",
      "name": "python",
      "nbconvert_exporter": "python",
      "pygments_lexer": "ipython3",
      "version": "3.10.0"
    }
  },
  "nbformat": 4,
  "nbformat_minor": 0
}
