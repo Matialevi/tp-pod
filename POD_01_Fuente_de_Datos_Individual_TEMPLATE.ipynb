{
  "nbformat": 4,
  "nbformat_minor": 0,
  "metadata": {
    "colab": {
      "provenance": [],
      "collapsed_sections": [
        "8ec8DQdbWQfC",
        "Qle1xWYPd8Sv",
        "0PC11afRgkYM",
        "T2RSUVCvoxT4",
        "jkYYyfAbzUb1",
        "pEHxdsKh4atw"
      ]
    },
    "kernelspec": {
      "name": "python3",
      "display_name": "Python 3"
    },
    "language_info": {
      "name": "python"
    }
  },
  "cells": [
    {
      "cell_type": "markdown",
      "source": [
        "*   **Año:** segundo\n",
        "*   **Alumno/a:** Alevi Matias\n",
        "*   **Legajo:**"
      ],
      "metadata": {
        "id": "UwxQU5JCF33j"
      }
    },
    {
      "cell_type": "markdown",
      "source": [],
      "metadata": {
        "id": "KlilRw_9pA0r"
      }
    },
    {
      "cell_type": "markdown",
      "source": [
        "# Archivos de texto plano\n",
        "\n",
        "[gutenberg.org](https://www.gutenberg.org/) (llamado así por el inventor de la imprenta moderna) es el sitio web del Proyecto Gutenberg que se dedica a la distribución y creación de eBooks. En este sitio se encuentra el [Don Quijote](https://www.gutenberg.org/ebooks/14859). El Don Quijote se puede leer en diferentes formatos, ¿no? Para la tarea, se va a usar el Don Quijote de texto plano. La siguiente celda descarga el .txt y lo guarda en el sistema para luego su futura lectura:\n",
        "\n",
        "\n"
      ],
      "metadata": {
        "id": "8ec8DQdbWQfC"
      }
    },
    {
      "cell_type": "code",
      "source": [
        "!wget https://www.gutenberg.org/cache/epub/2000/pg2000.txt"
      ],
      "metadata": {
        "id": "IdwR3kTsWOOf",
        "colab": {
          "base_uri": "https://localhost:8080/"
        },
        "outputId": "4dbbeb98-50b2-4773-a10d-92a2d9dd72ec"
      },
      "execution_count": 11,
      "outputs": [
        {
          "output_type": "stream",
          "name": "stdout",
          "text": [
            "--2024-08-24 23:40:15--  https://www.gutenberg.org/cache/epub/2000/pg2000.txt\n",
            "Resolving www.gutenberg.org (www.gutenberg.org)... 152.19.134.47, 2610:28:3090:3000:0:bad:cafe:47\n",
            "Connecting to www.gutenberg.org (www.gutenberg.org)|152.19.134.47|:443... connected.\n",
            "HTTP request sent, awaiting response... 200 OK\n",
            "Length: 2225845 (2.1M) [text/plain]\n",
            "Saving to: ‘pg2000.txt.3’\n",
            "\n",
            "pg2000.txt.3        100%[===================>]   2.12M  --.-KB/s    in 0.1s    \n",
            "\n",
            "2024-08-24 23:40:15 (14.9 MB/s) - ‘pg2000.txt.3’ saved [2225845/2225845]\n",
            "\n"
          ]
        }
      ]
    },
    {
      "cell_type": "markdown",
      "source": [
        "## Consignas"
      ],
      "metadata": {
        "id": "EVyry9l3Y-Ym"
      }
    },
    {
      "cell_type": "markdown",
      "source": [
        "***NOTA: Para estas consignas, no se puede usar modulos externos a Python***"
      ],
      "metadata": {
        "id": "9JSAN376c69E"
      }
    },
    {
      "cell_type": "markdown",
      "source": [
        "Del archivo descargado, calcular la cantidad de lineas:"
      ],
      "metadata": {
        "id": "uF01w4AQcrtV"
      }
    },
    {
      "cell_type": "code",
      "source": [
        "with open(\"pg2000.txt\", \"r\", encoding=\"utf-8\") as archivo:\n",
        "    texto = archivo.readlines()\n",
        "cant_lineas= len(texto)\n",
        "print(f\"Cantidad de lineas: {cant_lineas}\")"
      ],
      "metadata": {
        "id": "4WPUcwU_c5n2",
        "colab": {
          "base_uri": "https://localhost:8080/"
        },
        "outputId": "bc897858-db43-49e5-95c4-fca84089999f"
      },
      "execution_count": 19,
      "outputs": [
        {
          "output_type": "stream",
          "name": "stdout",
          "text": [
            "Cantidad de lineas: 38055\n"
          ]
        }
      ]
    },
    {
      "cell_type": "markdown",
      "source": [
        "Del archivo descargado, calcular la cantidad de veces que se dice:\n",
        "*   'Quijote'\n",
        "*   'mancha'\n",
        "*   'españa'\n",
        "\n",
        "Considerar que, por ejemplo, 'QuiJoTe' es lo mismo que 'quijote' (no *case sensitive*)."
      ],
      "metadata": {
        "id": "KoGfZeqnX0zu"
      }
    },
    {
      "cell_type": "code",
      "source": [
        "with open(\"pg2000.txt\", \"r\", encoding=\"utf-8\") as archivo:\n",
        "    texto = archivo.read()\n",
        "\n",
        "texto = texto.lower()\n",
        "\n",
        "conteo_quijote = texto.count(\"quijote\")\n",
        "conteo_mancha = texto.count(\"mancha\")\n",
        "conteo_espania = texto.count(\"españa\")\n",
        "\n",
        "print(f\"Quijote aparece: {conteo_quijote} veces\")\n",
        "print(f\"Mancha aparece: {conteo_mancha} veces\")\n",
        "print(f\"Espania aparece: {conteo_espania} veces\")"
      ],
      "metadata": {
        "id": "5W3S6N1VWOXS",
        "colab": {
          "base_uri": "https://localhost:8080/"
        },
        "outputId": "80ae0b9c-a01e-4bce-8ef3-05a403a09dfa"
      },
      "execution_count": 17,
      "outputs": [
        {
          "output_type": "stream",
          "name": "stdout",
          "text": [
            "Quijote aparece: 2249 veces\n",
            "Mancha aparece: 196 veces\n",
            "Espania aparece: 78 veces\n"
          ]
        }
      ]
    },
    {
      "cell_type": "markdown",
      "source": [
        "¿Quien es el autor y titulo del libro? Responderlo usando las herramientas utilizadas en la celda anterior (Tip: abrir el archivo de texto y ver como son las primeras lineas)."
      ],
      "metadata": {
        "id": "7sD03KW_ZBRP"
      }
    },
    {
      "cell_type": "code",
      "source": [
        "with open(\"pg2000.txt\", \"r\", encoding=\"utf-8\") as archivo:\n",
        "   # for i in range(15):\n",
        "    #    print(archivo.readline().strip())\n",
        "    texto = archivo.readlines()\n",
        "    print(texto[10].strip())\n",
        "    print(texto[12].strip())"
      ],
      "metadata": {
        "id": "UOeILNtRWOkc",
        "colab": {
          "base_uri": "https://localhost:8080/"
        },
        "outputId": "47dcfcd5-96cc-459d-c109-ff25a00406f5"
      },
      "execution_count": 53,
      "outputs": [
        {
          "output_type": "stream",
          "name": "stdout",
          "text": [
            "Title: Don Quijote\n",
            "Author: Miguel de Cervantes Saavedra\n"
          ]
        }
      ]
    },
    {
      "cell_type": "markdown",
      "source": [
        "# Archivos .csv\n",
        "\n",
        "*Robert* De Niro actuó en mas de 100 peliculas y Rotten Tomatoes es un sitio web en el que se pueden leer criticas y ratings a peliculas hechos por críticos y usuarios. La siguiente linea descarga un archivo .csv en el que tenemos peliculas de De Niro junto a su rating en Rotten Tomatoes:"
      ],
      "metadata": {
        "id": "Qle1xWYPd8Sv"
      }
    },
    {
      "cell_type": "code",
      "source": [
        "!wget https://people.sc.fsu.edu/~jburkardt/data/csv/deniro.csv"
      ],
      "metadata": {
        "id": "xjR9oYuQciUC",
        "colab": {
          "base_uri": "https://localhost:8080/"
        },
        "outputId": "ea3a0799-3d3e-4248-b3d1-a337eaeaacef"
      },
      "execution_count": 1,
      "outputs": [
        {
          "output_type": "stream",
          "name": "stdout",
          "text": [
            "--2024-08-30 22:16:34--  https://people.sc.fsu.edu/~jburkardt/data/csv/deniro.csv\n",
            "Resolving people.sc.fsu.edu (people.sc.fsu.edu)... 144.174.0.22\n",
            "Connecting to people.sc.fsu.edu (people.sc.fsu.edu)|144.174.0.22|:443... connected.\n",
            "HTTP request sent, awaiting response... 200 OK\n",
            "Length: 2391 (2.3K) [text/csv]\n",
            "Saving to: ‘deniro.csv’\n",
            "\n",
            "deniro.csv          100%[===================>]   2.33K  --.-KB/s    in 0s      \n",
            "\n",
            "2024-08-30 22:16:34 (715 MB/s) - ‘deniro.csv’ saved [2391/2391]\n",
            "\n"
          ]
        }
      ]
    },
    {
      "cell_type": "markdown",
      "source": [
        "## Consignas"
      ],
      "metadata": {
        "id": "jKPEhcgmfH0V"
      }
    },
    {
      "cell_type": "markdown",
      "source": [
        "***NOTA: Apartir de aca, se pueden usar modulos externos de Python***"
      ],
      "metadata": {
        "id": "wapWSGEUfa2p"
      }
    },
    {
      "cell_type": "markdown",
      "source": [
        "Sabemos que el archivo tiene en su primera linea los 'headers'. ¿Cuales son? Imprimirlos."
      ],
      "metadata": {
        "id": "O1QNcst1fQEm"
      }
    },
    {
      "cell_type": "code",
      "source": [
        "with open(\"deniro.csv\", \"r\", encoding=\"utf-8\") as archivo:\n",
        "  for i in range(1):\n",
        "    print(archivo.readline().strip())"
      ],
      "metadata": {
        "id": "WEkUhVuQfPoi",
        "colab": {
          "base_uri": "https://localhost:8080/"
        },
        "outputId": "fe1744cc-e6e3-45dc-9d50-e0f99dc8e73a"
      },
      "execution_count": 3,
      "outputs": [
        {
          "output_type": "stream",
          "name": "stdout",
          "text": [
            "\"Year\", \"Score\", \"Title\"\n"
          ]
        }
      ]
    },
    {
      "cell_type": "markdown",
      "source": [
        "Convertir la información del archivo .csv a un diccionario."
      ],
      "metadata": {
        "id": "JlB8YAhKfd-x"
      }
    },
    {
      "cell_type": "code",
      "source": [
        "import csv\n",
        "with open(\"deniro.csv\", \"r\", encoding=\"utf-8\") as archivo:\n",
        "  texto= csv.DictReader(archivo)\n",
        "  ls=list(texto)\n",
        "for i in ls:\n",
        "  print(i)"
      ],
      "metadata": {
        "id": "tpHR0iv0fdor",
        "colab": {
          "base_uri": "https://localhost:8080/"
        },
        "outputId": "7831b438-174a-4177-8621-a97d04a72087"
      },
      "execution_count": 6,
      "outputs": [
        {
          "output_type": "stream",
          "name": "stdout",
          "text": [
            "{'Year': '1968', ' \"Score\"': '  86', ' \"Title\"': ' \"Greetings\"'}\n",
            "{'Year': '1970', ' \"Score\"': '  17', ' \"Title\"': ' \"Bloody Mama\"'}\n",
            "{'Year': '1970', ' \"Score\"': '  73', ' \"Title\"': ' \"Hi', None: [' Mom!\"']}\n",
            "{'Year': '1971', ' \"Score\"': '  40', ' \"Title\"': ' \"Born to Win\"'}\n",
            "{'Year': '1973', ' \"Score\"': '  98', ' \"Title\"': ' \"Mean Streets\"'}\n",
            "{'Year': '1973', ' \"Score\"': '  88', ' \"Title\"': ' \"Bang the Drum Slowly\"'}\n",
            "{'Year': '1974', ' \"Score\"': '  97', ' \"Title\"': ' \"The Godfather', None: [' Part II\"']}\n",
            "{'Year': '1976', ' \"Score\"': '  41', ' \"Title\"': ' \"The Last Tycoon\"'}\n",
            "{'Year': '1976', ' \"Score\"': '  99', ' \"Title\"': ' \"Taxi Driver\"'}\n",
            "{'Year': '1977', ' \"Score\"': '  47', ' \"Title\"': ' \"1900\"'}\n",
            "{'Year': '1977', ' \"Score\"': '  67', ' \"Title\"': ' \"New York', None: [' New York\"']}\n",
            "{'Year': '1978', ' \"Score\"': '  93', ' \"Title\"': ' \"The Deer Hunter\"'}\n",
            "{'Year': '1980', ' \"Score\"': '  97', ' \"Title\"': ' \"Raging Bull\"'}\n",
            "{'Year': '1981', ' \"Score\"': '  75', ' \"Title\"': ' \"True Confessions\"'}\n",
            "{'Year': '1983', ' \"Score\"': '  90', ' \"Title\"': ' \"The King of Comedy\"'}\n",
            "{'Year': '1984', ' \"Score\"': '  89', ' \"Title\"': ' \"Once Upon a Time in America\"'}\n",
            "{'Year': '1984', ' \"Score\"': '  60', ' \"Title\"': ' \"Falling in Love\"'}\n",
            "{'Year': '1985', ' \"Score\"': '  98', ' \"Title\"': ' \"Brazil\"'}\n",
            "{'Year': '1986', ' \"Score\"': '  65', ' \"Title\"': ' \"The Mission\"'}\n",
            "{'Year': '1987', ' \"Score\"': ' 100', ' \"Title\"': ' \"Dear America: Letters Home From Vietnam\"'}\n",
            "{'Year': '1987', ' \"Score\"': '  80', ' \"Title\"': ' \"The Untouchables\"'}\n",
            "{'Year': '1987', ' \"Score\"': '  78', ' \"Title\"': ' \"Angel Heart\"'}\n",
            "{'Year': '1988', ' \"Score\"': '  96', ' \"Title\"': ' \"Midnight Run\"'}\n",
            "{'Year': '1989', ' \"Score\"': '  64', ' \"Title\"': ' \"Jacknife\"'}\n",
            "{'Year': '1989', ' \"Score\"': '  47', ' \"Title\"': ' \"We\\'re No Angels\"'}\n",
            "{'Year': '1990', ' \"Score\"': '  88', ' \"Title\"': ' \"Awakenings\"'}\n",
            "{'Year': '1990', ' \"Score\"': '  29', ' \"Title\"': ' \"Stanley & Iris\"'}\n",
            "{'Year': '1990', ' \"Score\"': '  96', ' \"Title\"': ' \"Goodfellas\"'}\n",
            "{'Year': '1991', ' \"Score\"': '  76', ' \"Title\"': ' \"Cape Fear\"'}\n",
            "{'Year': '1991', ' \"Score\"': '  69', ' \"Title\"': ' \"Mistress\"'}\n",
            "{'Year': '1991', ' \"Score\"': '  65', ' \"Title\"': ' \"Guilty by Suspicion\"'}\n",
            "{'Year': '1991', ' \"Score\"': '  71', ' \"Title\"': ' \"Backdraft\"'}\n",
            "{'Year': '1992', ' \"Score\"': '  87', ' \"Title\"': ' \"Thunderheart\"'}\n",
            "{'Year': '1992', ' \"Score\"': '  67', ' \"Title\"': ' \"Night and the City\"'}\n",
            "{'Year': '1993', ' \"Score\"': '  75', ' \"Title\"': ' \"This Boy\\'s Life\"'}\n",
            "{'Year': '1993', ' \"Score\"': '  78', ' \"Title\"': ' \"Mad Dog and Glory\"'}\n",
            "{'Year': '1993', ' \"Score\"': '  96', ' \"Title\"': ' \"A Bronx Tale\"'}\n",
            "{'Year': '1994', ' \"Score\"': '  39', ' \"Title\"': ' \"Mary Shelley\\'s Frankenstein\"'}\n",
            "{'Year': '1995', ' \"Score\"': '  80', ' \"Title\"': ' \"Casino\"'}\n",
            "{'Year': '1995', ' \"Score\"': '  86', ' \"Title\"': ' \"Heat\"'}\n",
            "{'Year': '1996', ' \"Score\"': '  74', ' \"Title\"': ' \"Sleepers\"'}\n",
            "{'Year': '1996', ' \"Score\"': '  38', ' \"Title\"': ' \"The Fan\"'}\n",
            "{'Year': '1996', ' \"Score\"': '  80', ' \"Title\"': ' \"Marvin\\'s Room\"'}\n",
            "{'Year': '1997', ' \"Score\"': '  85', ' \"Title\"': ' \"Wag the Dog\"'}\n",
            "{'Year': '1997', ' \"Score\"': '  87', ' \"Title\"': ' \"Jackie Brown\"'}\n",
            "{'Year': '1997', ' \"Score\"': '  72', ' \"Title\"': ' \"Cop Land\"'}\n",
            "{'Year': '1998', ' \"Score\"': '  68', ' \"Title\"': ' \"Ronin\"'}\n",
            "{'Year': '1998', ' \"Score\"': '  38', ' \"Title\"': ' \"Great Expectations\"'}\n",
            "{'Year': '1999', ' \"Score\"': '  69', ' \"Title\"': ' \"Analyze This\"'}\n",
            "{'Year': '1999', ' \"Score\"': '  43', ' \"Title\"': ' \"Flawless\"'}\n",
            "{'Year': '2000', ' \"Score\"': '  43', ' \"Title\"': ' \"The Adventures of Rocky & Bullwinkle\"'}\n",
            "{'Year': '2000', ' \"Score\"': '  84', ' \"Title\"': ' \"Meet the Parents\"'}\n",
            "{'Year': '2000', ' \"Score\"': '  41', ' \"Title\"': ' \"Men of Honor\"'}\n",
            "{'Year': '2001', ' \"Score\"': '  73', ' \"Title\"': ' \"The Score\"'}\n",
            "{'Year': '2001', ' \"Score\"': '  33', ' \"Title\"': ' \"15 Minutes\"'}\n",
            "{'Year': '2002', ' \"Score\"': '  48', ' \"Title\"': ' \"City by the Sea\"'}\n",
            "{'Year': '2002', ' \"Score\"': '  27', ' \"Title\"': ' \"Analyze That\"'}\n",
            "{'Year': '2003', ' \"Score\"': '   4', ' \"Title\"': ' \"Godsend\"'}\n",
            "{'Year': '2004', ' \"Score\"': '  35', ' \"Title\"': ' \"Shark Tale\"'}\n",
            "{'Year': '2004', ' \"Score\"': '  38', ' \"Title\"': ' \"Meet the Fockers\"'}\n",
            "{'Year': '2005', ' \"Score\"': '   4', ' \"Title\"': ' \"The Bridge of San Luis Rey\"'}\n",
            "{'Year': '2005', ' \"Score\"': '  46', ' \"Title\"': ' \"Rent\"'}\n",
            "{'Year': '2005', ' \"Score\"': '  13', ' \"Title\"': ' \"Hide and Seek\"'}\n",
            "{'Year': '2006', ' \"Score\"': '  54', ' \"Title\"': ' \"The Good Shepherd\"'}\n",
            "{'Year': '2007', ' \"Score\"': '  21', ' \"Title\"': ' \"Arthur and the Invisibles\"'}\n",
            "{'Year': '2007', ' \"Score\"': '  76', ' \"Title\"': ' \"Captain Shakespeare\"'}\n",
            "{'Year': '2008', ' \"Score\"': '  19', ' \"Title\"': ' \"Righteous Kill\"'}\n",
            "{'Year': '2008', ' \"Score\"': '  51', ' \"Title\"': ' \"What Just Happened?\"'}\n",
            "{'Year': '2009', ' \"Score\"': '  46', ' \"Title\"': ' \"Everybody\\'s Fine\"'}\n",
            "{'Year': '2010', ' \"Score\"': '  72', ' \"Title\"': ' \"Machete\"'}\n",
            "{'Year': '2010', ' \"Score\"': '  10', ' \"Title\"': ' \"Little Fockers\"'}\n",
            "{'Year': '2010', ' \"Score\"': '  50', ' \"Title\"': ' \"Stone\"'}\n",
            "{'Year': '2011', ' \"Score\"': '  25', ' \"Title\"': ' \"Killer Elite\"'}\n",
            "{'Year': '2011', ' \"Score\"': '   7', ' \"Title\"': ' \"New Year\\'s Eve\"'}\n",
            "{'Year': '2011', ' \"Score\"': '  70', ' \"Title\"': ' \"Limitless\"'}\n",
            "{'Year': '2012', ' \"Score\"': '  92', ' \"Title\"': ' \"Silver Linings Playbook\"'}\n",
            "{'Year': '2012', ' \"Score\"': '  51', ' \"Title\"': ' \"Being Flynn\"'}\n",
            "{'Year': '2012', ' \"Score\"': '  29', ' \"Title\"': ' \"Red Lights\"'}\n",
            "{'Year': '2013', ' \"Score\"': '  46', ' \"Title\"': ' \"Last Vegas\"'}\n",
            "{'Year': '2013', ' \"Score\"': '   7', ' \"Title\"': ' \"The Big Wedding\"'}\n",
            "{'Year': '2013', ' \"Score\"': '  29', ' \"Title\"': ' \"Grudge Match\"'}\n",
            "{'Year': '2013', ' \"Score\"': '  11', ' \"Title\"': ' \"Killing Season\"'}\n",
            "{'Year': '2014', ' \"Score\"': '   9', ' \"Title\"': ' \"The Bag Man\"'}\n",
            "{'Year': '2015', ' \"Score\"': '  60', ' \"Title\"': ' \"Joy\"'}\n",
            "{'Year': '2015', ' \"Score\"': '  26', ' \"Title\"': ' \"Heist\"'}\n",
            "{'Year': '2015', ' \"Score\"': '  61', ' \"Title\"': ' \"The Intern\"'}\n",
            "{'Year': '2016', ' \"Score\"': '  11', ' \"Title\"': ' \"Dirty Grandpa\"'}\n"
          ]
        }
      ]
    },
    {
      "cell_type": "markdown",
      "source": [
        "¿Cuantas peliculas hay registradas en el archivo .csv?"
      ],
      "metadata": {
        "id": "7LfMvtSOfnry"
      }
    },
    {
      "cell_type": "code",
      "source": [
        "import csv\n",
        "with open(\"deniro.csv\",\"r\", encoding=\"utf-8\") as archivo:\n",
        "  texto=csv.DictReader(archivo)\n",
        "  cant_pelis=sum(1 for i in texto)\n",
        "print(f\"Hay {cant_pelis}\")"
      ],
      "metadata": {
        "id": "cW6gEL79WOz-",
        "colab": {
          "base_uri": "https://localhost:8080/"
        },
        "outputId": "52de5415-ffac-4050-ff99-ce4f02ee674a"
      },
      "execution_count": 12,
      "outputs": [
        {
          "output_type": "stream",
          "name": "stdout",
          "text": [
            "Hay 87\n"
          ]
        }
      ]
    },
    {
      "cell_type": "markdown",
      "source": [
        "Imprimir las peliculas mejor y peor rankeadas del archivo (imprimir sus respectivos rankings)"
      ],
      "metadata": {
        "id": "cX6NHr3Mfwmb"
      }
    },
    {
      "cell_type": "code",
      "source": [
        "import csv\n",
        "\n",
        "# Abrir el archivo CSV y leer las filas\n",
        "with open(\"deniro.csv\", \"r\", encoding=\"utf-8\") as archivo:\n",
        "    lector_csv = list(csv.DictReader(archivo))\n",
        "\n",
        "    # Obtener las películas con el mejor y peor Score usando los nombres de columnas correctos\n",
        "    mejor_pelicula = max(lector_csv, key=lambda x: float(x[' \"Score\"'].strip()))\n",
        "    peor_pelicula = min(lector_csv, key=lambda x: float(x[' \"Score\"'].strip()))\n",
        "\n",
        "# Imprimir los resultados utilizando comillas triples para la f-string\n",
        "print(f\"\"\"La mejor película es '{mejor_pelicula[' \"Title\"'].strip()}' con un score de {mejor_pelicula[' \"Score\"'].strip()}.\"\"\")\n",
        "print(f\"\"\"La peor película es '{peor_pelicula[' \"Title\"'].strip()}' con un score de {peor_pelicula[' \"Score\"'].strip()}.\"\"\")"
      ],
      "metadata": {
        "id": "elardtrTWO8f",
        "colab": {
          "base_uri": "https://localhost:8080/"
        },
        "outputId": "078c0667-df89-4982-cf4d-36faa144f7ac"
      },
      "execution_count": 12,
      "outputs": [
        {
          "output_type": "stream",
          "name": "stdout",
          "text": [
            "La mejor película es '\"Dear America: Letters Home From Vietnam\"' con un score de 100.\n",
            "La peor película es '\"Godsend\"' con un score de 4.\n"
          ]
        }
      ]
    },
    {
      "cell_type": "markdown",
      "source": [
        "# Base de datos - Relacionales\n",
        "\n",
        "SQLite es una biblioteca de C que provee una base de datos ligera basada en disco que no requiere un proceso de servidor separado y permite acceder a la base de datos usando una variación no estándar del lenguaje de consulta SQL. Algunas aplicaciones pueden usar SQLite para almacenamiento interno. También es posible prototipar una aplicación usando SQLite y luego transferir el código a una base de datos más grande como PostgreSQL u Oracle."
      ],
      "metadata": {
        "id": "0PC11afRgkYM"
      }
    },
    {
      "cell_type": "markdown",
      "source": [
        "Realizamos el `import` e indicamos el archivo en el que vamos a guardar la base de datos:"
      ],
      "metadata": {
        "id": "KaNvinOlgwWN"
      }
    },
    {
      "cell_type": "code",
      "source": [
        "import sqlite3\n",
        "conn = sqlite3.connect('db.db')"
      ],
      "metadata": {
        "id": "0zWsglLEgjEo"
      },
      "execution_count": 1,
      "outputs": []
    },
    {
      "cell_type": "markdown",
      "source": [
        "La siguiente linea de codigo agrega filas a la misma. Por favor, ejecutar la siguiente celda para la consigna:\n",
        "\n"
      ],
      "metadata": {
        "id": "T-jXx8QEhsHm"
      }
    },
    {
      "cell_type": "code",
      "source": [
        "!wget https://people.sc.fsu.edu/~jburkardt/data/csv/snakes_count_10000.csv\n",
        "\n",
        "cur = conn.cursor()\n",
        "cur.execute(\"CREATE TABLE t (GameNumber, GameLength);\")\n",
        "\n",
        "with open('snakes_count_10000.csv','r') as csv_file:\n",
        "  lines = csv_file.readlines()[1:]\n",
        "  lines = [l.split(',') for l in lines]\n",
        "  to_db = [(l[0].strip(), l[1].strip()) for l in lines]\n",
        "\n",
        "cur.executemany(\"INSERT INTO t (GameNumber, GameLength) VALUES (?, ?);\", to_db)\n",
        "conn.commit()\n",
        "conn.close()"
      ],
      "metadata": {
        "id": "JUQ2JAOmgjWW",
        "colab": {
          "base_uri": "https://localhost:8080/"
        },
        "outputId": "98c36254-6bab-47f2-993b-eba52c01576e"
      },
      "execution_count": 2,
      "outputs": [
        {
          "output_type": "stream",
          "name": "stdout",
          "text": [
            "--2024-09-03 20:51:18--  https://people.sc.fsu.edu/~jburkardt/data/csv/snakes_count_10000.csv\n",
            "Resolving people.sc.fsu.edu (people.sc.fsu.edu)... 144.174.0.22\n",
            "Connecting to people.sc.fsu.edu (people.sc.fsu.edu)|144.174.0.22|:443... connected.\n",
            "HTTP request sent, awaiting response... 200 OK\n",
            "Length: 89011 (87K) [text/csv]\n",
            "Saving to: ‘snakes_count_10000.csv’\n",
            "\n",
            "snakes_count_10000. 100%[===================>]  86.92K   457KB/s    in 0.2s    \n",
            "\n",
            "2024-09-03 20:51:19 (457 KB/s) - ‘snakes_count_10000.csv’ saved [89011/89011]\n",
            "\n"
          ]
        }
      ]
    },
    {
      "cell_type": "markdown",
      "source": [
        "## Consignas"
      ],
      "metadata": {
        "id": "06PQmTIdnprM"
      }
    },
    {
      "cell_type": "markdown",
      "source": [
        "¿Como luce la base de datos? Imprimirla.\n"
      ],
      "metadata": {
        "id": "WxEdqmEloQqT"
      }
    },
    {
      "cell_type": "code",
      "source": [
        "with open (\"snakes_count_10000.csv\", \"r\") as archivo:\n",
        "  for i in range(10):\n",
        "    print(archivo.readline().strip())"
      ],
      "metadata": {
        "id": "0s8aBsoRoPtg",
        "colab": {
          "base_uri": "https://localhost:8080/"
        },
        "outputId": "3867d5fb-922d-4ad5-a8dd-e21eb145dbda"
      },
      "execution_count": 4,
      "outputs": [
        {
          "output_type": "stream",
          "name": "stdout",
          "text": [
            "\"Game Number\", \"Game Length\"\n",
            "1, 30\n",
            "2, 29\n",
            "3, 31\n",
            "4, 16\n",
            "5, 24\n",
            "6, 29\n",
            "7, 28\n",
            "8, 117\n",
            "9, 42\n"
          ]
        }
      ]
    },
    {
      "cell_type": "markdown",
      "source": [
        "¿Cuantas filas hay en la base de datos?"
      ],
      "metadata": {
        "id": "PKbtk_Krn6gn"
      }
    },
    {
      "cell_type": "code",
      "source": [
        "import sqlite3\n",
        "\n",
        "conn = sqlite3.connect('db.db')\n",
        "cur = conn.cursor()\n",
        "\n",
        "cur.execute(\"SELECT COUNT(*) FROM t;\")\n",
        "row_count = cur.fetchone()[0]\n",
        "\n",
        "print(f\"Cantidad de filas: {row_count}\")\n",
        "\n",
        "conn.close()"
      ],
      "metadata": {
        "id": "PiaQsgBrn6Fv",
        "colab": {
          "base_uri": "https://localhost:8080/"
        },
        "outputId": "6292ce67-b45d-4b42-c9da-a6bcf915b70d"
      },
      "execution_count": 10,
      "outputs": [
        {
          "output_type": "stream",
          "name": "stdout",
          "text": [
            "10000\n"
          ]
        }
      ]
    },
    {
      "cell_type": "markdown",
      "source": [
        "¿Cual es el máximo `GameLength` y en qué `GameNumber` se realizó?"
      ],
      "metadata": {
        "id": "Nj7MHOItoFMk"
      }
    },
    {
      "cell_type": "code",
      "source": [
        "import sqlite3\n",
        "\n",
        "conn = sqlite3.connect('db.db')\n",
        "cur = conn.cursor()\n",
        "\n",
        "cur.execute(\"SELECT GameNumber, MAX(GameLength) FROM t;\")\n",
        "result = cur.fetchone()\n",
        "\n",
        "print(f\"El máximo GameLength es {result[1].strip()} y ocurrió en el GameNumber {result[0]}.\")\n",
        "\n",
        "conn.close()"
      ],
      "metadata": {
        "id": "_5jLvBsjoFmc",
        "colab": {
          "base_uri": "https://localhost:8080/"
        },
        "outputId": "50eb3966-c17d-4324-deea-8d63fcb3042c"
      },
      "execution_count": 13,
      "outputs": [
        {
          "output_type": "stream",
          "name": "stdout",
          "text": [
            "El máximo GameLength es 99 y ocurrió en el GameNumber 363.\n"
          ]
        }
      ]
    },
    {
      "cell_type": "markdown",
      "source": [
        "# API Requests\n",
        "Por lo general, conseguimos datos a traves de internet. Aunque el concepto de Application Programming Interface (API) es muy amplio y muy poco concreto, en el contexto de los servidores, es un conjunto de 'endpoints' que los servidores ofrecen para poder leer/procesar/escribir información en estos mismos.\n",
        "\n",
        "[En este repositorio](https://github.com/public-apis/public-apis) van a encontrar una lista de APIs públicas (pueden elegir otras que no son de ese repositorio). Para la consigna, se recomienda usar aquellas APIs que no requieren autenticación. Si se elige una API con autenticación, por favor, adjuntar las keys o pasarl las credenciales necesarias para su futura ejecución También, pueden usar varias URLs."
      ],
      "metadata": {
        "id": "T2RSUVCvoxT4"
      }
    },
    {
      "cell_type": "markdown",
      "source": [
        "## Consigna"
      ],
      "metadata": {
        "id": "jkYYyfAbzUb1"
      }
    },
    {
      "cell_type": "markdown",
      "source": [
        "Hacer una request GET e imprimir uno de los campos de la respuesta:"
      ],
      "metadata": {
        "id": "aHJRrt9AzeaA"
      }
    },
    {
      "cell_type": "code",
      "source": [
        "import requests\n",
        "\n",
        "response = requests.get(\"https://dog.ceo/api/breeds/image/random\")\n",
        "data = response.json()\n",
        "\n",
        "image_url = data['message']\n",
        "print(image_url)"
      ],
      "metadata": {
        "id": "MJt0d2WuzbOD",
        "colab": {
          "base_uri": "https://localhost:8080/"
        },
        "outputId": "92ce39f7-4ee6-46d0-a202-c4a4a20cf163"
      },
      "execution_count": 14,
      "outputs": [
        {
          "output_type": "stream",
          "name": "stdout",
          "text": [
            "https://images.dog.ceo/breeds/briard/n02105251_7434.jpg\n"
          ]
        }
      ]
    },
    {
      "cell_type": "markdown",
      "source": [
        "Hacer una request GET y, apartir de los campos en la respuesta, generar otro campo (por ejemplo, si la respuesta solo incluye un timestamp y una posición del registro, elaborar la velocidad del registro)"
      ],
      "metadata": {
        "id": "bmLeZSJKzq2e"
      }
    },
    {
      "cell_type": "code",
      "source": [
        "breed = image_url.split('/')[4]\n",
        "\n",
        "# Añadir el nuevo campo al diccionario\n",
        "data['breed'] = breed\n",
        "\n",
        "# Imprimir la URL de la imagen y la raza del perro\n",
        "print(f\"URL de la imagen: {image_url}\")\n",
        "print(f\"Raza del perro: {breed}\")"
      ],
      "metadata": {
        "id": "j0higEc9zn3y",
        "colab": {
          "base_uri": "https://localhost:8080/"
        },
        "outputId": "d272c798-659f-42d8-b80c-8091d31da4eb"
      },
      "execution_count": 15,
      "outputs": [
        {
          "output_type": "stream",
          "name": "stdout",
          "text": [
            "URL de la imagen: https://images.dog.ceo/breeds/briard/n02105251_7434.jpg\n",
            "Raza del perro: briard\n"
          ]
        }
      ]
    },
    {
      "cell_type": "markdown",
      "source": [
        "# Streaming data\n",
        "Ahora vamos a hacer algo muy parecido a lo anterior, pero vamos a usar APIs que nos ofrecen datos en tiempo real. Pueden encontrar APIs de este estilo [en este repositorio](https://github.com/ColinEberhardt/awesome-public-streaming-datasets) (pueden elegir otras que no son de ese repositorio)"
      ],
      "metadata": {
        "id": "pEHxdsKh4atw"
      }
    },
    {
      "cell_type": "markdown",
      "source": [
        "## Consigna"
      ],
      "metadata": {
        "id": "EB8_JQfw4iJ5"
      }
    },
    {
      "cell_type": "markdown",
      "source": [
        "Hacer un plot con `matplotlib` de una variable de una API de datos streaming en el que el eje 'y' sea la variable y el eje 'x' el tiempo."
      ],
      "metadata": {
        "id": "S-FNfnOT4reQ"
      }
    },
    {
      "cell_type": "code",
      "source": [
        "import requests\n",
        "import matplotlib.pyplot as plt\n",
        "import matplotlib.animation as animation\n",
        "from datetime import datetime\n",
        "\n",
        "# URL de la API de Coinbase para obtener el precio actual de Bitcoin en USD\n",
        "url = \"https://api.coinbase.com/v2/prices/BTC-USD/spot\"\n",
        "\n",
        "# Listas para almacenar tiempos y precios\n",
        "times = []\n",
        "prices = []\n",
        "\n",
        "# Función para actualizar los datos y el gráfico\n",
        "def update_data(i):\n",
        "    response = requests.get(url)\n",
        "    data = response.json()\n",
        "    price = float(data['data']['amount'])\n",
        "\n",
        "    # Agregar el tiempo y el precio a las listas\n",
        "    times.append(datetime.now())\n",
        "    prices.append(price)\n",
        "\n",
        "    # Limitar el número de puntos en el gráfico\n",
        "    times_slice = times[-20:]\n",
        "    prices_slice = prices[-20:]\n",
        "\n",
        "    # Limpiar el gráfico y volver a dibujar\n",
        "    plt.cla()\n",
        "    plt.plot(times_slice, prices_slice, label='Precio BTC/USD')\n",
        "    plt.xlabel('Tiempo')\n",
        "    plt.ylabel('Precio (USD)')\n",
        "    plt.title('Precio en Tiempo Real de Bitcoin (Coinbase)')\n",
        "    plt.xticks(rotation=45)\n",
        "    plt.tight_layout()\n",
        "    plt.legend()\n",
        "\n",
        "# Configurar la animación\n",
        "ani = animation.FuncAnimation(plt.gcf(), update_data, interval=1000)\n",
        "\n",
        "# Mostrar el gráfico\n",
        "plt.show()"
      ],
      "metadata": {
        "id": "CYNfr1uH4aQm",
        "colab": {
          "base_uri": "https://localhost:8080/",
          "height": 73
        },
        "outputId": "1e7dc31d-aeed-47e6-9e14-3288e4bb4fac"
      },
      "execution_count": 31,
      "outputs": [
        {
          "output_type": "stream",
          "name": "stderr",
          "text": [
            "<ipython-input-31-31c367d8b318>:38: UserWarning: frames=None which we can infer the length of, did not pass an explicit *save_count* and passed cache_frame_data=True.  To avoid a possibly unbounded cache, frame data caching has been disabled. To suppress this warning either pass `cache_frame_data=False` or `save_count=MAX_FRAMES`.\n",
            "  ani = animation.FuncAnimation(plt.gcf(), update_data, interval=1000)\n"
          ]
        },
        {
          "output_type": "display_data",
          "data": {
            "text/plain": [
              "<IPython.core.display.Javascript object>"
            ],
            "application/javascript": [
              "/* Put everything inside the global mpl namespace */\n",
              "/* global mpl */\n",
              "window.mpl = {};\n",
              "\n",
              "mpl.get_websocket_type = function () {\n",
              "    if (typeof WebSocket !== 'undefined') {\n",
              "        return WebSocket;\n",
              "    } else if (typeof MozWebSocket !== 'undefined') {\n",
              "        return MozWebSocket;\n",
              "    } else {\n",
              "        alert(\n",
              "            'Your browser does not have WebSocket support. ' +\n",
              "                'Please try Chrome, Safari or Firefox ≥ 6. ' +\n",
              "                'Firefox 4 and 5 are also supported but you ' +\n",
              "                'have to enable WebSockets in about:config.'\n",
              "        );\n",
              "    }\n",
              "};\n",
              "\n",
              "mpl.figure = function (figure_id, websocket, ondownload, parent_element) {\n",
              "    this.id = figure_id;\n",
              "\n",
              "    this.ws = websocket;\n",
              "\n",
              "    this.supports_binary = this.ws.binaryType !== undefined;\n",
              "\n",
              "    if (!this.supports_binary) {\n",
              "        var warnings = document.getElementById('mpl-warnings');\n",
              "        if (warnings) {\n",
              "            warnings.style.display = 'block';\n",
              "            warnings.textContent =\n",
              "                'This browser does not support binary websocket messages. ' +\n",
              "                'Performance may be slow.';\n",
              "        }\n",
              "    }\n",
              "\n",
              "    this.imageObj = new Image();\n",
              "\n",
              "    this.context = undefined;\n",
              "    this.message = undefined;\n",
              "    this.canvas = undefined;\n",
              "    this.rubberband_canvas = undefined;\n",
              "    this.rubberband_context = undefined;\n",
              "    this.format_dropdown = undefined;\n",
              "\n",
              "    this.image_mode = 'full';\n",
              "\n",
              "    this.root = document.createElement('div');\n",
              "    this.root.setAttribute('style', 'display: inline-block');\n",
              "    this._root_extra_style(this.root);\n",
              "\n",
              "    parent_element.appendChild(this.root);\n",
              "\n",
              "    this._init_header(this);\n",
              "    this._init_canvas(this);\n",
              "    this._init_toolbar(this);\n",
              "\n",
              "    var fig = this;\n",
              "\n",
              "    this.waiting = false;\n",
              "\n",
              "    this.ws.onopen = function () {\n",
              "        fig.send_message('supports_binary', { value: fig.supports_binary });\n",
              "        fig.send_message('send_image_mode', {});\n",
              "        if (fig.ratio !== 1) {\n",
              "            fig.send_message('set_device_pixel_ratio', {\n",
              "                device_pixel_ratio: fig.ratio,\n",
              "            });\n",
              "        }\n",
              "        fig.send_message('refresh', {});\n",
              "    };\n",
              "\n",
              "    this.imageObj.onload = function () {\n",
              "        if (fig.image_mode === 'full') {\n",
              "            // Full images could contain transparency (where diff images\n",
              "            // almost always do), so we need to clear the canvas so that\n",
              "            // there is no ghosting.\n",
              "            fig.context.clearRect(0, 0, fig.canvas.width, fig.canvas.height);\n",
              "        }\n",
              "        fig.context.drawImage(fig.imageObj, 0, 0);\n",
              "    };\n",
              "\n",
              "    this.imageObj.onunload = function () {\n",
              "        fig.ws.close();\n",
              "    };\n",
              "\n",
              "    this.ws.onmessage = this._make_on_message_function(this);\n",
              "\n",
              "    this.ondownload = ondownload;\n",
              "};\n",
              "\n",
              "mpl.figure.prototype._init_header = function () {\n",
              "    var titlebar = document.createElement('div');\n",
              "    titlebar.classList =\n",
              "        'ui-dialog-titlebar ui-widget-header ui-corner-all ui-helper-clearfix';\n",
              "    var titletext = document.createElement('div');\n",
              "    titletext.classList = 'ui-dialog-title';\n",
              "    titletext.setAttribute(\n",
              "        'style',\n",
              "        'width: 100%; text-align: center; padding: 3px;'\n",
              "    );\n",
              "    titlebar.appendChild(titletext);\n",
              "    this.root.appendChild(titlebar);\n",
              "    this.header = titletext;\n",
              "};\n",
              "\n",
              "mpl.figure.prototype._canvas_extra_style = function (_canvas_div) {};\n",
              "\n",
              "mpl.figure.prototype._root_extra_style = function (_canvas_div) {};\n",
              "\n",
              "mpl.figure.prototype._init_canvas = function () {\n",
              "    var fig = this;\n",
              "\n",
              "    var canvas_div = (this.canvas_div = document.createElement('div'));\n",
              "    canvas_div.setAttribute('tabindex', '0');\n",
              "    canvas_div.setAttribute(\n",
              "        'style',\n",
              "        'border: 1px solid #ddd;' +\n",
              "            'box-sizing: content-box;' +\n",
              "            'clear: both;' +\n",
              "            'min-height: 1px;' +\n",
              "            'min-width: 1px;' +\n",
              "            'outline: 0;' +\n",
              "            'overflow: hidden;' +\n",
              "            'position: relative;' +\n",
              "            'resize: both;' +\n",
              "            'z-index: 2;'\n",
              "    );\n",
              "\n",
              "    function on_keyboard_event_closure(name) {\n",
              "        return function (event) {\n",
              "            return fig.key_event(event, name);\n",
              "        };\n",
              "    }\n",
              "\n",
              "    canvas_div.addEventListener(\n",
              "        'keydown',\n",
              "        on_keyboard_event_closure('key_press')\n",
              "    );\n",
              "    canvas_div.addEventListener(\n",
              "        'keyup',\n",
              "        on_keyboard_event_closure('key_release')\n",
              "    );\n",
              "\n",
              "    this._canvas_extra_style(canvas_div);\n",
              "    this.root.appendChild(canvas_div);\n",
              "\n",
              "    var canvas = (this.canvas = document.createElement('canvas'));\n",
              "    canvas.classList.add('mpl-canvas');\n",
              "    canvas.setAttribute(\n",
              "        'style',\n",
              "        'box-sizing: content-box;' +\n",
              "            'pointer-events: none;' +\n",
              "            'position: relative;' +\n",
              "            'z-index: 0;'\n",
              "    );\n",
              "\n",
              "    this.context = canvas.getContext('2d');\n",
              "\n",
              "    var backingStore =\n",
              "        this.context.backingStorePixelRatio ||\n",
              "        this.context.webkitBackingStorePixelRatio ||\n",
              "        this.context.mozBackingStorePixelRatio ||\n",
              "        this.context.msBackingStorePixelRatio ||\n",
              "        this.context.oBackingStorePixelRatio ||\n",
              "        this.context.backingStorePixelRatio ||\n",
              "        1;\n",
              "\n",
              "    this.ratio = (window.devicePixelRatio || 1) / backingStore;\n",
              "\n",
              "    var rubberband_canvas = (this.rubberband_canvas = document.createElement(\n",
              "        'canvas'\n",
              "    ));\n",
              "    rubberband_canvas.setAttribute(\n",
              "        'style',\n",
              "        'box-sizing: content-box;' +\n",
              "            'left: 0;' +\n",
              "            'pointer-events: none;' +\n",
              "            'position: absolute;' +\n",
              "            'top: 0;' +\n",
              "            'z-index: 1;'\n",
              "    );\n",
              "\n",
              "    // Apply a ponyfill if ResizeObserver is not implemented by browser.\n",
              "    if (this.ResizeObserver === undefined) {\n",
              "        if (window.ResizeObserver !== undefined) {\n",
              "            this.ResizeObserver = window.ResizeObserver;\n",
              "        } else {\n",
              "            var obs = _JSXTOOLS_RESIZE_OBSERVER({});\n",
              "            this.ResizeObserver = obs.ResizeObserver;\n",
              "        }\n",
              "    }\n",
              "\n",
              "    this.resizeObserverInstance = new this.ResizeObserver(function (entries) {\n",
              "        var nentries = entries.length;\n",
              "        for (var i = 0; i < nentries; i++) {\n",
              "            var entry = entries[i];\n",
              "            var width, height;\n",
              "            if (entry.contentBoxSize) {\n",
              "                if (entry.contentBoxSize instanceof Array) {\n",
              "                    // Chrome 84 implements new version of spec.\n",
              "                    width = entry.contentBoxSize[0].inlineSize;\n",
              "                    height = entry.contentBoxSize[0].blockSize;\n",
              "                } else {\n",
              "                    // Firefox implements old version of spec.\n",
              "                    width = entry.contentBoxSize.inlineSize;\n",
              "                    height = entry.contentBoxSize.blockSize;\n",
              "                }\n",
              "            } else {\n",
              "                // Chrome <84 implements even older version of spec.\n",
              "                width = entry.contentRect.width;\n",
              "                height = entry.contentRect.height;\n",
              "            }\n",
              "\n",
              "            // Keep the size of the canvas and rubber band canvas in sync with\n",
              "            // the canvas container.\n",
              "            if (entry.devicePixelContentBoxSize) {\n",
              "                // Chrome 84 implements new version of spec.\n",
              "                canvas.setAttribute(\n",
              "                    'width',\n",
              "                    entry.devicePixelContentBoxSize[0].inlineSize\n",
              "                );\n",
              "                canvas.setAttribute(\n",
              "                    'height',\n",
              "                    entry.devicePixelContentBoxSize[0].blockSize\n",
              "                );\n",
              "            } else {\n",
              "                canvas.setAttribute('width', width * fig.ratio);\n",
              "                canvas.setAttribute('height', height * fig.ratio);\n",
              "            }\n",
              "            /* This rescales the canvas back to display pixels, so that it\n",
              "             * appears correct on HiDPI screens. */\n",
              "            canvas.style.width = width + 'px';\n",
              "            canvas.style.height = height + 'px';\n",
              "\n",
              "            rubberband_canvas.setAttribute('width', width);\n",
              "            rubberband_canvas.setAttribute('height', height);\n",
              "\n",
              "            // And update the size in Python. We ignore the initial 0/0 size\n",
              "            // that occurs as the element is placed into the DOM, which should\n",
              "            // otherwise not happen due to the minimum size styling.\n",
              "            if (fig.ws.readyState == 1 && width != 0 && height != 0) {\n",
              "                fig.request_resize(width, height);\n",
              "            }\n",
              "        }\n",
              "    });\n",
              "    this.resizeObserverInstance.observe(canvas_div);\n",
              "\n",
              "    function on_mouse_event_closure(name) {\n",
              "        /* User Agent sniffing is bad, but WebKit is busted:\n",
              "         * https://bugs.webkit.org/show_bug.cgi?id=144526\n",
              "         * https://bugs.webkit.org/show_bug.cgi?id=181818\n",
              "         * The worst that happens here is that they get an extra browser\n",
              "         * selection when dragging, if this check fails to catch them.\n",
              "         */\n",
              "        var UA = navigator.userAgent;\n",
              "        var isWebKit = /AppleWebKit/.test(UA) && !/Chrome/.test(UA);\n",
              "        if(isWebKit) {\n",
              "            return function (event) {\n",
              "                /* This prevents the web browser from automatically changing to\n",
              "                 * the text insertion cursor when the button is pressed. We\n",
              "                 * want to control all of the cursor setting manually through\n",
              "                 * the 'cursor' event from matplotlib */\n",
              "                event.preventDefault()\n",
              "                return fig.mouse_event(event, name);\n",
              "            };\n",
              "        } else {\n",
              "            return function (event) {\n",
              "                return fig.mouse_event(event, name);\n",
              "            };\n",
              "        }\n",
              "    }\n",
              "\n",
              "    canvas_div.addEventListener(\n",
              "        'mousedown',\n",
              "        on_mouse_event_closure('button_press')\n",
              "    );\n",
              "    canvas_div.addEventListener(\n",
              "        'mouseup',\n",
              "        on_mouse_event_closure('button_release')\n",
              "    );\n",
              "    canvas_div.addEventListener(\n",
              "        'dblclick',\n",
              "        on_mouse_event_closure('dblclick')\n",
              "    );\n",
              "    // Throttle sequential mouse events to 1 every 20ms.\n",
              "    canvas_div.addEventListener(\n",
              "        'mousemove',\n",
              "        on_mouse_event_closure('motion_notify')\n",
              "    );\n",
              "\n",
              "    canvas_div.addEventListener(\n",
              "        'mouseenter',\n",
              "        on_mouse_event_closure('figure_enter')\n",
              "    );\n",
              "    canvas_div.addEventListener(\n",
              "        'mouseleave',\n",
              "        on_mouse_event_closure('figure_leave')\n",
              "    );\n",
              "\n",
              "    canvas_div.addEventListener('wheel', function (event) {\n",
              "        if (event.deltaY < 0) {\n",
              "            event.step = 1;\n",
              "        } else {\n",
              "            event.step = -1;\n",
              "        }\n",
              "        on_mouse_event_closure('scroll')(event);\n",
              "    });\n",
              "\n",
              "    canvas_div.appendChild(canvas);\n",
              "    canvas_div.appendChild(rubberband_canvas);\n",
              "\n",
              "    this.rubberband_context = rubberband_canvas.getContext('2d');\n",
              "    this.rubberband_context.strokeStyle = '#000000';\n",
              "\n",
              "    this._resize_canvas = function (width, height, forward) {\n",
              "        if (forward) {\n",
              "            canvas_div.style.width = width + 'px';\n",
              "            canvas_div.style.height = height + 'px';\n",
              "        }\n",
              "    };\n",
              "\n",
              "    // Disable right mouse context menu.\n",
              "    canvas_div.addEventListener('contextmenu', function (_e) {\n",
              "        event.preventDefault();\n",
              "        return false;\n",
              "    });\n",
              "\n",
              "    function set_focus() {\n",
              "        canvas.focus();\n",
              "        canvas_div.focus();\n",
              "    }\n",
              "\n",
              "    window.setTimeout(set_focus, 100);\n",
              "};\n",
              "\n",
              "mpl.figure.prototype._init_toolbar = function () {\n",
              "    var fig = this;\n",
              "\n",
              "    var toolbar = document.createElement('div');\n",
              "    toolbar.classList = 'mpl-toolbar';\n",
              "    this.root.appendChild(toolbar);\n",
              "\n",
              "    function on_click_closure(name) {\n",
              "        return function (_event) {\n",
              "            return fig.toolbar_button_onclick(name);\n",
              "        };\n",
              "    }\n",
              "\n",
              "    function on_mouseover_closure(tooltip) {\n",
              "        return function (event) {\n",
              "            if (!event.currentTarget.disabled) {\n",
              "                return fig.toolbar_button_onmouseover(tooltip);\n",
              "            }\n",
              "        };\n",
              "    }\n",
              "\n",
              "    fig.buttons = {};\n",
              "    var buttonGroup = document.createElement('div');\n",
              "    buttonGroup.classList = 'mpl-button-group';\n",
              "    for (var toolbar_ind in mpl.toolbar_items) {\n",
              "        var name = mpl.toolbar_items[toolbar_ind][0];\n",
              "        var tooltip = mpl.toolbar_items[toolbar_ind][1];\n",
              "        var image = mpl.toolbar_items[toolbar_ind][2];\n",
              "        var method_name = mpl.toolbar_items[toolbar_ind][3];\n",
              "\n",
              "        if (!name) {\n",
              "            /* Instead of a spacer, we start a new button group. */\n",
              "            if (buttonGroup.hasChildNodes()) {\n",
              "                toolbar.appendChild(buttonGroup);\n",
              "            }\n",
              "            buttonGroup = document.createElement('div');\n",
              "            buttonGroup.classList = 'mpl-button-group';\n",
              "            continue;\n",
              "        }\n",
              "\n",
              "        var button = (fig.buttons[name] = document.createElement('button'));\n",
              "        button.classList = 'mpl-widget';\n",
              "        button.setAttribute('role', 'button');\n",
              "        button.setAttribute('aria-disabled', 'false');\n",
              "        button.addEventListener('click', on_click_closure(method_name));\n",
              "        button.addEventListener('mouseover', on_mouseover_closure(tooltip));\n",
              "\n",
              "        var icon_img = document.createElement('img');\n",
              "        icon_img.src = '_images/' + image + '.png';\n",
              "        icon_img.srcset = '_images/' + image + '_large.png 2x';\n",
              "        icon_img.alt = tooltip;\n",
              "        button.appendChild(icon_img);\n",
              "\n",
              "        buttonGroup.appendChild(button);\n",
              "    }\n",
              "\n",
              "    if (buttonGroup.hasChildNodes()) {\n",
              "        toolbar.appendChild(buttonGroup);\n",
              "    }\n",
              "\n",
              "    var fmt_picker = document.createElement('select');\n",
              "    fmt_picker.classList = 'mpl-widget';\n",
              "    toolbar.appendChild(fmt_picker);\n",
              "    this.format_dropdown = fmt_picker;\n",
              "\n",
              "    for (var ind in mpl.extensions) {\n",
              "        var fmt = mpl.extensions[ind];\n",
              "        var option = document.createElement('option');\n",
              "        option.selected = fmt === mpl.default_extension;\n",
              "        option.innerHTML = fmt;\n",
              "        fmt_picker.appendChild(option);\n",
              "    }\n",
              "\n",
              "    var status_bar = document.createElement('span');\n",
              "    status_bar.classList = 'mpl-message';\n",
              "    toolbar.appendChild(status_bar);\n",
              "    this.message = status_bar;\n",
              "};\n",
              "\n",
              "mpl.figure.prototype.request_resize = function (x_pixels, y_pixels) {\n",
              "    // Request matplotlib to resize the figure. Matplotlib will then trigger a resize in the client,\n",
              "    // which will in turn request a refresh of the image.\n",
              "    this.send_message('resize', { width: x_pixels, height: y_pixels });\n",
              "};\n",
              "\n",
              "mpl.figure.prototype.send_message = function (type, properties) {\n",
              "    properties['type'] = type;\n",
              "    properties['figure_id'] = this.id;\n",
              "    this.ws.send(JSON.stringify(properties));\n",
              "};\n",
              "\n",
              "mpl.figure.prototype.send_draw_message = function () {\n",
              "    if (!this.waiting) {\n",
              "        this.waiting = true;\n",
              "        this.ws.send(JSON.stringify({ type: 'draw', figure_id: this.id }));\n",
              "    }\n",
              "};\n",
              "\n",
              "mpl.figure.prototype.handle_save = function (fig, _msg) {\n",
              "    var format_dropdown = fig.format_dropdown;\n",
              "    var format = format_dropdown.options[format_dropdown.selectedIndex].value;\n",
              "    fig.ondownload(fig, format);\n",
              "};\n",
              "\n",
              "mpl.figure.prototype.handle_resize = function (fig, msg) {\n",
              "    var size = msg['size'];\n",
              "    if (size[0] !== fig.canvas.width || size[1] !== fig.canvas.height) {\n",
              "        fig._resize_canvas(size[0], size[1], msg['forward']);\n",
              "        fig.send_message('refresh', {});\n",
              "    }\n",
              "};\n",
              "\n",
              "mpl.figure.prototype.handle_rubberband = function (fig, msg) {\n",
              "    var x0 = msg['x0'] / fig.ratio;\n",
              "    var y0 = (fig.canvas.height - msg['y0']) / fig.ratio;\n",
              "    var x1 = msg['x1'] / fig.ratio;\n",
              "    var y1 = (fig.canvas.height - msg['y1']) / fig.ratio;\n",
              "    x0 = Math.floor(x0) + 0.5;\n",
              "    y0 = Math.floor(y0) + 0.5;\n",
              "    x1 = Math.floor(x1) + 0.5;\n",
              "    y1 = Math.floor(y1) + 0.5;\n",
              "    var min_x = Math.min(x0, x1);\n",
              "    var min_y = Math.min(y0, y1);\n",
              "    var width = Math.abs(x1 - x0);\n",
              "    var height = Math.abs(y1 - y0);\n",
              "\n",
              "    fig.rubberband_context.clearRect(\n",
              "        0,\n",
              "        0,\n",
              "        fig.canvas.width / fig.ratio,\n",
              "        fig.canvas.height / fig.ratio\n",
              "    );\n",
              "\n",
              "    fig.rubberband_context.strokeRect(min_x, min_y, width, height);\n",
              "};\n",
              "\n",
              "mpl.figure.prototype.handle_figure_label = function (fig, msg) {\n",
              "    // Updates the figure title.\n",
              "    fig.header.textContent = msg['label'];\n",
              "};\n",
              "\n",
              "mpl.figure.prototype.handle_cursor = function (fig, msg) {\n",
              "    fig.canvas_div.style.cursor = msg['cursor'];\n",
              "};\n",
              "\n",
              "mpl.figure.prototype.handle_message = function (fig, msg) {\n",
              "    fig.message.textContent = msg['message'];\n",
              "};\n",
              "\n",
              "mpl.figure.prototype.handle_draw = function (fig, _msg) {\n",
              "    // Request the server to send over a new figure.\n",
              "    fig.send_draw_message();\n",
              "};\n",
              "\n",
              "mpl.figure.prototype.handle_image_mode = function (fig, msg) {\n",
              "    fig.image_mode = msg['mode'];\n",
              "};\n",
              "\n",
              "mpl.figure.prototype.handle_history_buttons = function (fig, msg) {\n",
              "    for (var key in msg) {\n",
              "        if (!(key in fig.buttons)) {\n",
              "            continue;\n",
              "        }\n",
              "        fig.buttons[key].disabled = !msg[key];\n",
              "        fig.buttons[key].setAttribute('aria-disabled', !msg[key]);\n",
              "    }\n",
              "};\n",
              "\n",
              "mpl.figure.prototype.handle_navigate_mode = function (fig, msg) {\n",
              "    if (msg['mode'] === 'PAN') {\n",
              "        fig.buttons['Pan'].classList.add('active');\n",
              "        fig.buttons['Zoom'].classList.remove('active');\n",
              "    } else if (msg['mode'] === 'ZOOM') {\n",
              "        fig.buttons['Pan'].classList.remove('active');\n",
              "        fig.buttons['Zoom'].classList.add('active');\n",
              "    } else {\n",
              "        fig.buttons['Pan'].classList.remove('active');\n",
              "        fig.buttons['Zoom'].classList.remove('active');\n",
              "    }\n",
              "};\n",
              "\n",
              "mpl.figure.prototype.updated_canvas_event = function () {\n",
              "    // Called whenever the canvas gets updated.\n",
              "    this.send_message('ack', {});\n",
              "};\n",
              "\n",
              "// A function to construct a web socket function for onmessage handling.\n",
              "// Called in the figure constructor.\n",
              "mpl.figure.prototype._make_on_message_function = function (fig) {\n",
              "    return function socket_on_message(evt) {\n",
              "        if (evt.data instanceof Blob) {\n",
              "            var img = evt.data;\n",
              "            if (img.type !== 'image/png') {\n",
              "                /* FIXME: We get \"Resource interpreted as Image but\n",
              "                 * transferred with MIME type text/plain:\" errors on\n",
              "                 * Chrome.  But how to set the MIME type?  It doesn't seem\n",
              "                 * to be part of the websocket stream */\n",
              "                img.type = 'image/png';\n",
              "            }\n",
              "\n",
              "            /* Free the memory for the previous frames */\n",
              "            if (fig.imageObj.src) {\n",
              "                (window.URL || window.webkitURL).revokeObjectURL(\n",
              "                    fig.imageObj.src\n",
              "                );\n",
              "            }\n",
              "\n",
              "            fig.imageObj.src = (window.URL || window.webkitURL).createObjectURL(\n",
              "                img\n",
              "            );\n",
              "            fig.updated_canvas_event();\n",
              "            fig.waiting = false;\n",
              "            return;\n",
              "        } else if (\n",
              "            typeof evt.data === 'string' &&\n",
              "            evt.data.slice(0, 21) === 'data:image/png;base64'\n",
              "        ) {\n",
              "            fig.imageObj.src = evt.data;\n",
              "            fig.updated_canvas_event();\n",
              "            fig.waiting = false;\n",
              "            return;\n",
              "        }\n",
              "\n",
              "        var msg = JSON.parse(evt.data);\n",
              "        var msg_type = msg['type'];\n",
              "\n",
              "        // Call the  \"handle_{type}\" callback, which takes\n",
              "        // the figure and JSON message as its only arguments.\n",
              "        try {\n",
              "            var callback = fig['handle_' + msg_type];\n",
              "        } catch (e) {\n",
              "            console.log(\n",
              "                \"No handler for the '\" + msg_type + \"' message type: \",\n",
              "                msg\n",
              "            );\n",
              "            return;\n",
              "        }\n",
              "\n",
              "        if (callback) {\n",
              "            try {\n",
              "                // console.log(\"Handling '\" + msg_type + \"' message: \", msg);\n",
              "                callback(fig, msg);\n",
              "            } catch (e) {\n",
              "                console.log(\n",
              "                    \"Exception inside the 'handler_\" + msg_type + \"' callback:\",\n",
              "                    e,\n",
              "                    e.stack,\n",
              "                    msg\n",
              "                );\n",
              "            }\n",
              "        }\n",
              "    };\n",
              "};\n",
              "\n",
              "function getModifiers(event) {\n",
              "    var mods = [];\n",
              "    if (event.ctrlKey) {\n",
              "        mods.push('ctrl');\n",
              "    }\n",
              "    if (event.altKey) {\n",
              "        mods.push('alt');\n",
              "    }\n",
              "    if (event.shiftKey) {\n",
              "        mods.push('shift');\n",
              "    }\n",
              "    if (event.metaKey) {\n",
              "        mods.push('meta');\n",
              "    }\n",
              "    return mods;\n",
              "}\n",
              "\n",
              "/*\n",
              " * return a copy of an object with only non-object keys\n",
              " * we need this to avoid circular references\n",
              " * https://stackoverflow.com/a/24161582/3208463\n",
              " */\n",
              "function simpleKeys(original) {\n",
              "    return Object.keys(original).reduce(function (obj, key) {\n",
              "        if (typeof original[key] !== 'object') {\n",
              "            obj[key] = original[key];\n",
              "        }\n",
              "        return obj;\n",
              "    }, {});\n",
              "}\n",
              "\n",
              "mpl.figure.prototype.mouse_event = function (event, name) {\n",
              "    if (name === 'button_press') {\n",
              "        this.canvas.focus();\n",
              "        this.canvas_div.focus();\n",
              "    }\n",
              "\n",
              "    // from https://stackoverflow.com/q/1114465\n",
              "    var boundingRect = this.canvas.getBoundingClientRect();\n",
              "    var x = (event.clientX - boundingRect.left) * this.ratio;\n",
              "    var y = (event.clientY - boundingRect.top) * this.ratio;\n",
              "\n",
              "    this.send_message(name, {\n",
              "        x: x,\n",
              "        y: y,\n",
              "        button: event.button,\n",
              "        step: event.step,\n",
              "        modifiers: getModifiers(event),\n",
              "        guiEvent: simpleKeys(event),\n",
              "    });\n",
              "\n",
              "    return false;\n",
              "};\n",
              "\n",
              "mpl.figure.prototype._key_event_extra = function (_event, _name) {\n",
              "    // Handle any extra behaviour associated with a key event\n",
              "};\n",
              "\n",
              "mpl.figure.prototype.key_event = function (event, name) {\n",
              "    // Prevent repeat events\n",
              "    if (name === 'key_press') {\n",
              "        if (event.key === this._key) {\n",
              "            return;\n",
              "        } else {\n",
              "            this._key = event.key;\n",
              "        }\n",
              "    }\n",
              "    if (name === 'key_release') {\n",
              "        this._key = null;\n",
              "    }\n",
              "\n",
              "    var value = '';\n",
              "    if (event.ctrlKey && event.key !== 'Control') {\n",
              "        value += 'ctrl+';\n",
              "    }\n",
              "    else if (event.altKey && event.key !== 'Alt') {\n",
              "        value += 'alt+';\n",
              "    }\n",
              "    else if (event.shiftKey && event.key !== 'Shift') {\n",
              "        value += 'shift+';\n",
              "    }\n",
              "\n",
              "    value += 'k' + event.key;\n",
              "\n",
              "    this._key_event_extra(event, name);\n",
              "\n",
              "    this.send_message(name, { key: value, guiEvent: simpleKeys(event) });\n",
              "    return false;\n",
              "};\n",
              "\n",
              "mpl.figure.prototype.toolbar_button_onclick = function (name) {\n",
              "    if (name === 'download') {\n",
              "        this.handle_save(this, null);\n",
              "    } else {\n",
              "        this.send_message('toolbar_button', { name: name });\n",
              "    }\n",
              "};\n",
              "\n",
              "mpl.figure.prototype.toolbar_button_onmouseover = function (tooltip) {\n",
              "    this.message.textContent = tooltip;\n",
              "};\n",
              "\n",
              "///////////////// REMAINING CONTENT GENERATED BY embed_js.py /////////////////\n",
              "// prettier-ignore\n",
              "var _JSXTOOLS_RESIZE_OBSERVER=function(A){var t,i=new WeakMap,n=new WeakMap,a=new WeakMap,r=new WeakMap,o=new Set;function s(e){if(!(this instanceof s))throw new TypeError(\"Constructor requires 'new' operator\");i.set(this,e)}function h(){throw new TypeError(\"Function is not a constructor\")}function c(e,t,i,n){e=0 in arguments?Number(arguments[0]):0,t=1 in arguments?Number(arguments[1]):0,i=2 in arguments?Number(arguments[2]):0,n=3 in arguments?Number(arguments[3]):0,this.right=(this.x=this.left=e)+(this.width=i),this.bottom=(this.y=this.top=t)+(this.height=n),Object.freeze(this)}function d(){t=requestAnimationFrame(d);var s=new WeakMap,p=new Set;o.forEach((function(t){r.get(t).forEach((function(i){var r=t instanceof window.SVGElement,o=a.get(t),d=r?0:parseFloat(o.paddingTop),f=r?0:parseFloat(o.paddingRight),l=r?0:parseFloat(o.paddingBottom),u=r?0:parseFloat(o.paddingLeft),g=r?0:parseFloat(o.borderTopWidth),m=r?0:parseFloat(o.borderRightWidth),w=r?0:parseFloat(o.borderBottomWidth),b=u+f,F=d+l,v=(r?0:parseFloat(o.borderLeftWidth))+m,W=g+w,y=r?0:t.offsetHeight-W-t.clientHeight,E=r?0:t.offsetWidth-v-t.clientWidth,R=b+v,z=F+W,M=r?t.width:parseFloat(o.width)-R-E,O=r?t.height:parseFloat(o.height)-z-y;if(n.has(t)){var k=n.get(t);if(k[0]===M&&k[1]===O)return}n.set(t,[M,O]);var S=Object.create(h.prototype);S.target=t,S.contentRect=new c(u,d,M,O),s.has(i)||(s.set(i,[]),p.add(i)),s.get(i).push(S)}))})),p.forEach((function(e){i.get(e).call(e,s.get(e),e)}))}return s.prototype.observe=function(i){if(i instanceof window.Element){r.has(i)||(r.set(i,new Set),o.add(i),a.set(i,window.getComputedStyle(i)));var n=r.get(i);n.has(this)||n.add(this),cancelAnimationFrame(t),t=requestAnimationFrame(d)}},s.prototype.unobserve=function(i){if(i instanceof window.Element&&r.has(i)){var n=r.get(i);n.has(this)&&(n.delete(this),n.size||(r.delete(i),o.delete(i))),n.size||r.delete(i),o.size||cancelAnimationFrame(t)}},A.DOMRectReadOnly=c,A.ResizeObserver=s,A.ResizeObserverEntry=h,A}; // eslint-disable-line\n",
              "mpl.toolbar_items = [[\"Home\", \"Reset original view\", \"fa fa-home\", \"home\"], [\"Back\", \"Back to previous view\", \"fa fa-arrow-left\", \"back\"], [\"Forward\", \"Forward to next view\", \"fa fa-arrow-right\", \"forward\"], [\"\", \"\", \"\", \"\"], [\"Pan\", \"Left button pans, Right button zooms\\nx/y fixes axis, CTRL fixes aspect\", \"fa fa-arrows\", \"pan\"], [\"Zoom\", \"Zoom to rectangle\\nx/y fixes axis\", \"fa fa-square-o\", \"zoom\"], [\"\", \"\", \"\", \"\"], [\"Download\", \"Download plot\", \"fa fa-floppy-o\", \"download\"]];\n",
              "\n",
              "mpl.extensions = [\"eps\", \"jpeg\", \"pgf\", \"pdf\", \"png\", \"ps\", \"raw\", \"svg\", \"tif\", \"webp\"];\n",
              "\n",
              "mpl.default_extension = \"png\";/* global mpl */\n",
              "\n",
              "var comm_websocket_adapter = function (comm) {\n",
              "    // Create a \"websocket\"-like object which calls the given IPython comm\n",
              "    // object with the appropriate methods. Currently this is a non binary\n",
              "    // socket, so there is still some room for performance tuning.\n",
              "    var ws = {};\n",
              "\n",
              "    ws.binaryType = comm.kernel.ws.binaryType;\n",
              "    ws.readyState = comm.kernel.ws.readyState;\n",
              "    function updateReadyState(_event) {\n",
              "        if (comm.kernel.ws) {\n",
              "            ws.readyState = comm.kernel.ws.readyState;\n",
              "        } else {\n",
              "            ws.readyState = 3; // Closed state.\n",
              "        }\n",
              "    }\n",
              "    comm.kernel.ws.addEventListener('open', updateReadyState);\n",
              "    comm.kernel.ws.addEventListener('close', updateReadyState);\n",
              "    comm.kernel.ws.addEventListener('error', updateReadyState);\n",
              "\n",
              "    ws.close = function () {\n",
              "        comm.close();\n",
              "    };\n",
              "    ws.send = function (m) {\n",
              "        //console.log('sending', m);\n",
              "        comm.send(m);\n",
              "    };\n",
              "    // Register the callback with on_msg.\n",
              "    comm.on_msg(function (msg) {\n",
              "        //console.log('receiving', msg['content']['data'], msg);\n",
              "        var data = msg['content']['data'];\n",
              "        if (data['blob'] !== undefined) {\n",
              "            data = {\n",
              "                data: new Blob(msg['buffers'], { type: data['blob'] }),\n",
              "            };\n",
              "        }\n",
              "        // Pass the mpl event to the overridden (by mpl) onmessage function.\n",
              "        ws.onmessage(data);\n",
              "    });\n",
              "    return ws;\n",
              "};\n",
              "\n",
              "mpl.mpl_figure_comm = function (comm, msg) {\n",
              "    // This is the function which gets called when the mpl process\n",
              "    // starts-up an IPython Comm through the \"matplotlib\" channel.\n",
              "\n",
              "    var id = msg.content.data.id;\n",
              "    // Get hold of the div created by the display call when the Comm\n",
              "    // socket was opened in Python.\n",
              "    var element = document.getElementById(id);\n",
              "    var ws_proxy = comm_websocket_adapter(comm);\n",
              "\n",
              "    function ondownload(figure, _format) {\n",
              "        window.open(figure.canvas.toDataURL());\n",
              "    }\n",
              "\n",
              "    var fig = new mpl.figure(id, ws_proxy, ondownload, element);\n",
              "\n",
              "    // Call onopen now - mpl needs it, as it is assuming we've passed it a real\n",
              "    // web socket which is closed, not our websocket->open comm proxy.\n",
              "    ws_proxy.onopen();\n",
              "\n",
              "    fig.parent_element = element;\n",
              "    fig.cell_info = mpl.find_output_cell(\"<div id='\" + id + \"'></div>\");\n",
              "    if (!fig.cell_info) {\n",
              "        console.error('Failed to find cell for figure', id, fig);\n",
              "        return;\n",
              "    }\n",
              "    fig.cell_info[0].output_area.element.on(\n",
              "        'cleared',\n",
              "        { fig: fig },\n",
              "        fig._remove_fig_handler\n",
              "    );\n",
              "};\n",
              "\n",
              "mpl.figure.prototype.handle_close = function (fig, msg) {\n",
              "    var width = fig.canvas.width / fig.ratio;\n",
              "    fig.cell_info[0].output_area.element.off(\n",
              "        'cleared',\n",
              "        fig._remove_fig_handler\n",
              "    );\n",
              "    fig.resizeObserverInstance.unobserve(fig.canvas_div);\n",
              "\n",
              "    // Update the output cell to use the data from the current canvas.\n",
              "    fig.push_to_output();\n",
              "    var dataURL = fig.canvas.toDataURL();\n",
              "    // Re-enable the keyboard manager in IPython - without this line, in FF,\n",
              "    // the notebook keyboard shortcuts fail.\n",
              "    IPython.keyboard_manager.enable();\n",
              "    fig.parent_element.innerHTML =\n",
              "        '<img src=\"' + dataURL + '\" width=\"' + width + '\">';\n",
              "    fig.close_ws(fig, msg);\n",
              "};\n",
              "\n",
              "mpl.figure.prototype.close_ws = function (fig, msg) {\n",
              "    fig.send_message('closing', msg);\n",
              "    // fig.ws.close()\n",
              "};\n",
              "\n",
              "mpl.figure.prototype.push_to_output = function (_remove_interactive) {\n",
              "    // Turn the data on the canvas into data in the output cell.\n",
              "    var width = this.canvas.width / this.ratio;\n",
              "    var dataURL = this.canvas.toDataURL();\n",
              "    this.cell_info[1]['text/html'] =\n",
              "        '<img src=\"' + dataURL + '\" width=\"' + width + '\">';\n",
              "};\n",
              "\n",
              "mpl.figure.prototype.updated_canvas_event = function () {\n",
              "    // Tell IPython that the notebook contents must change.\n",
              "    IPython.notebook.set_dirty(true);\n",
              "    this.send_message('ack', {});\n",
              "    var fig = this;\n",
              "    // Wait a second, then push the new image to the DOM so\n",
              "    // that it is saved nicely (might be nice to debounce this).\n",
              "    setTimeout(function () {\n",
              "        fig.push_to_output();\n",
              "    }, 1000);\n",
              "};\n",
              "\n",
              "mpl.figure.prototype._init_toolbar = function () {\n",
              "    var fig = this;\n",
              "\n",
              "    var toolbar = document.createElement('div');\n",
              "    toolbar.classList = 'btn-toolbar';\n",
              "    this.root.appendChild(toolbar);\n",
              "\n",
              "    function on_click_closure(name) {\n",
              "        return function (_event) {\n",
              "            return fig.toolbar_button_onclick(name);\n",
              "        };\n",
              "    }\n",
              "\n",
              "    function on_mouseover_closure(tooltip) {\n",
              "        return function (event) {\n",
              "            if (!event.currentTarget.disabled) {\n",
              "                return fig.toolbar_button_onmouseover(tooltip);\n",
              "            }\n",
              "        };\n",
              "    }\n",
              "\n",
              "    fig.buttons = {};\n",
              "    var buttonGroup = document.createElement('div');\n",
              "    buttonGroup.classList = 'btn-group';\n",
              "    var button;\n",
              "    for (var toolbar_ind in mpl.toolbar_items) {\n",
              "        var name = mpl.toolbar_items[toolbar_ind][0];\n",
              "        var tooltip = mpl.toolbar_items[toolbar_ind][1];\n",
              "        var image = mpl.toolbar_items[toolbar_ind][2];\n",
              "        var method_name = mpl.toolbar_items[toolbar_ind][3];\n",
              "\n",
              "        if (!name) {\n",
              "            /* Instead of a spacer, we start a new button group. */\n",
              "            if (buttonGroup.hasChildNodes()) {\n",
              "                toolbar.appendChild(buttonGroup);\n",
              "            }\n",
              "            buttonGroup = document.createElement('div');\n",
              "            buttonGroup.classList = 'btn-group';\n",
              "            continue;\n",
              "        }\n",
              "\n",
              "        button = fig.buttons[name] = document.createElement('button');\n",
              "        button.classList = 'btn btn-default';\n",
              "        button.href = '#';\n",
              "        button.title = name;\n",
              "        button.innerHTML = '<i class=\"fa ' + image + ' fa-lg\"></i>';\n",
              "        button.addEventListener('click', on_click_closure(method_name));\n",
              "        button.addEventListener('mouseover', on_mouseover_closure(tooltip));\n",
              "        buttonGroup.appendChild(button);\n",
              "    }\n",
              "\n",
              "    if (buttonGroup.hasChildNodes()) {\n",
              "        toolbar.appendChild(buttonGroup);\n",
              "    }\n",
              "\n",
              "    // Add the status bar.\n",
              "    var status_bar = document.createElement('span');\n",
              "    status_bar.classList = 'mpl-message pull-right';\n",
              "    toolbar.appendChild(status_bar);\n",
              "    this.message = status_bar;\n",
              "\n",
              "    // Add the close button to the window.\n",
              "    var buttongrp = document.createElement('div');\n",
              "    buttongrp.classList = 'btn-group inline pull-right';\n",
              "    button = document.createElement('button');\n",
              "    button.classList = 'btn btn-mini btn-primary';\n",
              "    button.href = '#';\n",
              "    button.title = 'Stop Interaction';\n",
              "    button.innerHTML = '<i class=\"fa fa-power-off icon-remove icon-large\"></i>';\n",
              "    button.addEventListener('click', function (_evt) {\n",
              "        fig.handle_close(fig, {});\n",
              "    });\n",
              "    button.addEventListener(\n",
              "        'mouseover',\n",
              "        on_mouseover_closure('Stop Interaction')\n",
              "    );\n",
              "    buttongrp.appendChild(button);\n",
              "    var titlebar = this.root.querySelector('.ui-dialog-titlebar');\n",
              "    titlebar.insertBefore(buttongrp, titlebar.firstChild);\n",
              "};\n",
              "\n",
              "mpl.figure.prototype._remove_fig_handler = function (event) {\n",
              "    var fig = event.data.fig;\n",
              "    if (event.target !== this) {\n",
              "        // Ignore bubbled events from children.\n",
              "        return;\n",
              "    }\n",
              "    fig.close_ws(fig, {});\n",
              "};\n",
              "\n",
              "mpl.figure.prototype._root_extra_style = function (el) {\n",
              "    el.style.boxSizing = 'content-box'; // override notebook setting of border-box.\n",
              "};\n",
              "\n",
              "mpl.figure.prototype._canvas_extra_style = function (el) {\n",
              "    // this is important to make the div 'focusable\n",
              "    el.setAttribute('tabindex', 0);\n",
              "    // reach out to IPython and tell the keyboard manager to turn it's self\n",
              "    // off when our div gets focus\n",
              "\n",
              "    // location in version 3\n",
              "    if (IPython.notebook.keyboard_manager) {\n",
              "        IPython.notebook.keyboard_manager.register_events(el);\n",
              "    } else {\n",
              "        // location in version 2\n",
              "        IPython.keyboard_manager.register_events(el);\n",
              "    }\n",
              "};\n",
              "\n",
              "mpl.figure.prototype._key_event_extra = function (event, _name) {\n",
              "    // Check for shift+enter\n",
              "    if (event.shiftKey && event.which === 13) {\n",
              "        this.canvas_div.blur();\n",
              "        // select the cell after this one\n",
              "        var index = IPython.notebook.find_cell_index(this.cell_info[0]);\n",
              "        IPython.notebook.select(index + 1);\n",
              "    }\n",
              "};\n",
              "\n",
              "mpl.figure.prototype.handle_save = function (fig, _msg) {\n",
              "    fig.ondownload(fig, null);\n",
              "};\n",
              "\n",
              "mpl.find_output_cell = function (html_output) {\n",
              "    // Return the cell and output element which can be found *uniquely* in the notebook.\n",
              "    // Note - this is a bit hacky, but it is done because the \"notebook_saving.Notebook\"\n",
              "    // IPython event is triggered only after the cells have been serialised, which for\n",
              "    // our purposes (turning an active figure into a static one), is too late.\n",
              "    var cells = IPython.notebook.get_cells();\n",
              "    var ncells = cells.length;\n",
              "    for (var i = 0; i < ncells; i++) {\n",
              "        var cell = cells[i];\n",
              "        if (cell.cell_type === 'code') {\n",
              "            for (var j = 0; j < cell.output_area.outputs.length; j++) {\n",
              "                var data = cell.output_area.outputs[j];\n",
              "                if (data.data) {\n",
              "                    // IPython >= 3 moved mimebundle to data attribute of output\n",
              "                    data = data.data;\n",
              "                }\n",
              "                if (data['text/html'] === html_output) {\n",
              "                    return [cell, data, j];\n",
              "                }\n",
              "            }\n",
              "        }\n",
              "    }\n",
              "};\n",
              "\n",
              "// Register the function which deals with the matplotlib target/channel.\n",
              "// The kernel may be null if the page has been refreshed.\n",
              "if (IPython.notebook.kernel !== null) {\n",
              "    IPython.notebook.kernel.comm_manager.register_target(\n",
              "        'matplotlib',\n",
              "        mpl.mpl_figure_comm\n",
              "    );\n",
              "}\n"
            ]
          },
          "metadata": {}
        },
        {
          "output_type": "display_data",
          "data": {
            "text/plain": [
              "<IPython.core.display.HTML object>"
            ],
            "text/html": [
              "<div id='b6f49152-0619-48d5-b7ca-4dd93436e5f3'></div>"
            ]
          },
          "metadata": {}
        }
      ]
    }
  ]
}